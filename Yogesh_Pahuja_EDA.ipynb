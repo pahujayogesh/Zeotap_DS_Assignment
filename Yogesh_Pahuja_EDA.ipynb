{
 "cells": [
  {
   "cell_type": "code",
   "execution_count": 1,
   "id": "a017a5cb-f439-48e3-b8e0-07f95b9904cb",
   "metadata": {},
   "outputs": [],
   "source": [
    "import pandas as pd"
   ]
  },
  {
   "cell_type": "code",
   "execution_count": 3,
   "id": "4c6bfce2-b86d-4d9d-a060-5d29be225569",
   "metadata": {},
   "outputs": [
    {
     "name": "stdout",
     "output_type": "stream",
     "text": [
      "<class 'pandas.core.frame.DataFrame'>\n",
      "RangeIndex: 200 entries, 0 to 199\n",
      "Data columns (total 4 columns):\n",
      " #   Column        Non-Null Count  Dtype \n",
      "---  ------        --------------  ----- \n",
      " 0   CustomerID    200 non-null    object\n",
      " 1   CustomerName  200 non-null    object\n",
      " 2   Region        200 non-null    object\n",
      " 3   SignupDate    200 non-null    object\n",
      "dtypes: object(4)\n",
      "memory usage: 6.4+ KB\n",
      "<class 'pandas.core.frame.DataFrame'>\n",
      "RangeIndex: 100 entries, 0 to 99\n",
      "Data columns (total 4 columns):\n",
      " #   Column       Non-Null Count  Dtype  \n",
      "---  ------       --------------  -----  \n",
      " 0   ProductID    100 non-null    object \n",
      " 1   ProductName  100 non-null    object \n",
      " 2   Category     100 non-null    object \n",
      " 3   Price        100 non-null    float64\n",
      "dtypes: float64(1), object(3)\n",
      "memory usage: 3.2+ KB\n",
      "<class 'pandas.core.frame.DataFrame'>\n",
      "RangeIndex: 1000 entries, 0 to 999\n",
      "Data columns (total 7 columns):\n",
      " #   Column           Non-Null Count  Dtype  \n",
      "---  ------           --------------  -----  \n",
      " 0   TransactionID    1000 non-null   object \n",
      " 1   CustomerID       1000 non-null   object \n",
      " 2   ProductID        1000 non-null   object \n",
      " 3   TransactionDate  1000 non-null   object \n",
      " 4   Quantity         1000 non-null   int64  \n",
      " 5   TotalValue       1000 non-null   float64\n",
      " 6   Price            1000 non-null   float64\n",
      "dtypes: float64(2), int64(1), object(4)\n",
      "memory usage: 54.8+ KB\n"
     ]
    },
    {
     "data": {
      "text/plain": [
       "(None, None, None)"
      ]
     },
     "execution_count": 3,
     "metadata": {},
     "output_type": "execute_result"
    }
   ],
   "source": [
    "# File paths\n",
    "customers_file = \"D:\\LAB\\zeotap\\Data_Science_intern_assignment\\dataset\\Customers.csv\"\n",
    "products_file = \"D:\\LAB\\zeotap\\Data_Science_intern_assignment\\dataset\\Products.csv\"\n",
    "transactions_file = \"D:\\LAB\\zeotap\\Data_Science_intern_assignment\\dataset\\Transactions.csv\"\n",
    "\n",
    "# Load data into DataFrames\n",
    "customers_df = pd.read_csv(customers_file)\n",
    "products_df = pd.read_csv(products_file)\n",
    "transactions_df = pd.read_csv(transactions_file)\n",
    "\n",
    "# Display basic information\n",
    "customers_df.info(), products_df.info(), transactions_df.info()"
   ]
  },
  {
   "cell_type": "markdown",
   "id": "899467ec-bbf9-4a19-a11f-d47546e958c4",
   "metadata": {},
   "source": [
    "# Step 1 Summary:\n",
    "### i. Customers.csv: 200 records, 4 columns. SignupDate is an object (string), which should be converted to a date type.\n",
    "### ii. Products.csv: 100 records, 4 columns. Price is already in float format.\n",
    "### iii. Transactions.csv: 1000 records, 7 columns. TransactionDate is an object (string), which should be converted to a date type"
   ]
  },
  {
   "cell_type": "markdown",
   "id": "7e8901a9-2a92-41d1-97a3-9d66f2f6d6d7",
   "metadata": {},
   "source": [
    "# Step 2: Data Cleaning\n",
    "### Convert SignupDate and TransactionDate to datetime format.\n",
    "### Check for missing values. ​"
   ]
  },
  {
   "cell_type": "code",
   "execution_count": 4,
   "id": "8aec073f-06a9-41d4-9458-a068884bad28",
   "metadata": {},
   "outputs": [
    {
     "data": {
      "text/plain": [
       "{'Customers': CustomerID      0\n",
       " CustomerName    0\n",
       " Region          0\n",
       " SignupDate      0\n",
       " dtype: int64,\n",
       " 'Products': ProductID      0\n",
       " ProductName    0\n",
       " Category       0\n",
       " Price          0\n",
       " dtype: int64,\n",
       " 'Transactions': TransactionID      0\n",
       " CustomerID         0\n",
       " ProductID          0\n",
       " TransactionDate    0\n",
       " Quantity           0\n",
       " TotalValue         0\n",
       " Price              0\n",
       " dtype: int64}"
      ]
     },
     "execution_count": 4,
     "metadata": {},
     "output_type": "execute_result"
    }
   ],
   "source": [
    "# Convert date columns to datetime format\n",
    "customers_df[\"SignupDate\"] = pd.to_datetime(customers_df[\"SignupDate\"])\n",
    "transactions_df[\"TransactionDate\"] = pd.to_datetime(transactions_df[\"TransactionDate\"])\n",
    "\n",
    "# Check for missing values\n",
    "missing_values = {\n",
    "    \"Customers\": customers_df.isnull().sum(),\n",
    "    \"Products\": products_df.isnull().sum(),\n",
    "    \"Transactions\": transactions_df.isnull().sum(),\n",
    "}\n",
    "\n",
    "missing_values\n"
   ]
  },
  {
   "cell_type": "markdown",
   "id": "5a4d70e5-47e1-4d6b-9cc9-73bb5c035dde",
   "metadata": {},
   "source": [
    "# Step 2 Summary:\n",
    "### Successfully converted SignupDate and TransactionDate to datetime format.\n",
    "### No missing values in any dataset."
   ]
  },
  {
   "cell_type": "markdown",
   "id": "b64233f1-0b0f-4aa2-95b8-8dc7cafff9a3",
   "metadata": {},
   "source": [
    "# Step 3: Data Overview\n",
    "\n",
    "### i. Unique customers and products.\n",
    "### ii. Any inconsistencies in TotalValue (should be Quantity * Price). ​"
   ]
  },
  {
   "cell_type": "code",
   "execution_count": 5,
   "id": "541c6456-9541-4891-a9d2-a3931a40319c",
   "metadata": {},
   "outputs": [
    {
     "data": {
      "text/plain": [
       "({'Unique Customers': 200,\n",
       "  'Unique Products': 100,\n",
       "  'Unique Transactions': 1000},\n",
       " 88)"
      ]
     },
     "execution_count": 5,
     "metadata": {},
     "output_type": "execute_result"
    }
   ],
   "source": [
    "# Check unique counts\n",
    "unique_counts = {\n",
    "    \"Unique Customers\": customers_df[\"CustomerID\"].nunique(),\n",
    "    \"Unique Products\": products_df[\"ProductID\"].nunique(),\n",
    "    \"Unique Transactions\": transactions_df[\"TransactionID\"].nunique(),\n",
    "}\n",
    "\n",
    "# Validate TotalValue calculation\n",
    "transactions_df[\"CalculatedTotal\"] = transactions_df[\"Quantity\"] * transactions_df[\"Price\"]\n",
    "inconsistent_total = transactions_df[transactions_df[\"TotalValue\"] != transactions_df[\"CalculatedTotal\"]].shape[0]\n",
    "\n",
    "unique_counts, inconsistent_total\n"
   ]
  },
  {
   "cell_type": "markdown",
   "id": "0d619ad0-1e22-4a35-a7ae-233aa68cb738",
   "metadata": {},
   "source": [
    "# Step 3 Summary:\n",
    "### There are 200 unique customers, 100 unique products, and 1000 unique transactions.\n",
    "### 88 transactions have inconsistent TotalValue (i.e., TotalValue ≠ Quantity * Price). This might indicate data entry errors or discounts."
   ]
  },
  {
   "cell_type": "markdown",
   "id": "7a44f37d-38bb-41e5-9738-e0709fa21192",
   "metadata": {},
   "source": [
    "# Step 4: Data Merging\n",
    "### To perform EDA, let's merge the datasets into a single dataframe. ​"
   ]
  },
  {
   "cell_type": "code",
   "execution_count": 28,
   "id": "941ce93d-f468-4876-be1c-794e7d821fc7",
   "metadata": {},
   "outputs": [],
   "source": [
    "# Merge transactions with customers\n",
    "merged_df = transactions_df.merge(customers_df, on=\"CustomerID\", how=\"left\")\n",
    "\n",
    "# Merge with products\n",
    "merged_df = merged_df.merge(products_df, on=\"ProductID\", how=\"left\")\n",
    "\n",
    "# Display first few rows\n",
    "merged_df.head()\n",
    "path=r'D:\\LAB\\zeotap\\Data_Science_intern_assignment\\dataset\\merged.csv'\n",
    "merged_df.to_csv(path,index=False)"
   ]
  },
  {
   "cell_type": "markdown",
   "id": "e3c4bb65-e8c4-4b44-ad62-f1c96d172cc7",
   "metadata": {},
   "source": [
    "# Step 5: Exploratory Data Analysis (EDA)\n",
    "\n",
    "### i. Basic statistics: Summary statistics for numerical columns.\n",
    "### ii. Transaction trends: Total revenue over time.\n",
    "### iii. Top customers: Customers contributing the most revenue.\n",
    "### iv. Best-selling products: Most frequently purchased products.\n",
    "### v. Regional analysis: Revenue distribution by region."
   ]
  },
  {
   "cell_type": "code",
   "execution_count": 7,
   "id": "70525e88-69ec-43c1-8d3e-0dd80458af16",
   "metadata": {},
   "outputs": [
    {
     "data": {
      "text/html": [
       "<div>\n",
       "<style scoped>\n",
       "    .dataframe tbody tr th:only-of-type {\n",
       "        vertical-align: middle;\n",
       "    }\n",
       "\n",
       "    .dataframe tbody tr th {\n",
       "        vertical-align: top;\n",
       "    }\n",
       "\n",
       "    .dataframe thead th {\n",
       "        text-align: right;\n",
       "    }\n",
       "</style>\n",
       "<table border=\"1\" class=\"dataframe\">\n",
       "  <thead>\n",
       "    <tr style=\"text-align: right;\">\n",
       "      <th></th>\n",
       "      <th>Quantity</th>\n",
       "      <th>TotalValue</th>\n",
       "      <th>Price_x</th>\n",
       "      <th>CalculatedTotal</th>\n",
       "      <th>Price_y</th>\n",
       "    </tr>\n",
       "  </thead>\n",
       "  <tbody>\n",
       "    <tr>\n",
       "      <th>count</th>\n",
       "      <td>1000.000000</td>\n",
       "      <td>1000.000000</td>\n",
       "      <td>1000.00000</td>\n",
       "      <td>1000.000000</td>\n",
       "      <td>1000.00000</td>\n",
       "    </tr>\n",
       "    <tr>\n",
       "      <th>mean</th>\n",
       "      <td>2.537000</td>\n",
       "      <td>689.995560</td>\n",
       "      <td>272.55407</td>\n",
       "      <td>689.995560</td>\n",
       "      <td>272.55407</td>\n",
       "    </tr>\n",
       "    <tr>\n",
       "      <th>std</th>\n",
       "      <td>1.117981</td>\n",
       "      <td>493.144478</td>\n",
       "      <td>140.73639</td>\n",
       "      <td>493.144478</td>\n",
       "      <td>140.73639</td>\n",
       "    </tr>\n",
       "    <tr>\n",
       "      <th>min</th>\n",
       "      <td>1.000000</td>\n",
       "      <td>16.080000</td>\n",
       "      <td>16.08000</td>\n",
       "      <td>16.080000</td>\n",
       "      <td>16.08000</td>\n",
       "    </tr>\n",
       "    <tr>\n",
       "      <th>25%</th>\n",
       "      <td>2.000000</td>\n",
       "      <td>295.295000</td>\n",
       "      <td>147.95000</td>\n",
       "      <td>295.295000</td>\n",
       "      <td>147.95000</td>\n",
       "    </tr>\n",
       "    <tr>\n",
       "      <th>50%</th>\n",
       "      <td>3.000000</td>\n",
       "      <td>588.880000</td>\n",
       "      <td>299.93000</td>\n",
       "      <td>588.880000</td>\n",
       "      <td>299.93000</td>\n",
       "    </tr>\n",
       "    <tr>\n",
       "      <th>75%</th>\n",
       "      <td>4.000000</td>\n",
       "      <td>1011.660000</td>\n",
       "      <td>404.40000</td>\n",
       "      <td>1011.660000</td>\n",
       "      <td>404.40000</td>\n",
       "    </tr>\n",
       "    <tr>\n",
       "      <th>max</th>\n",
       "      <td>4.000000</td>\n",
       "      <td>1991.040000</td>\n",
       "      <td>497.76000</td>\n",
       "      <td>1991.040000</td>\n",
       "      <td>497.76000</td>\n",
       "    </tr>\n",
       "  </tbody>\n",
       "</table>\n",
       "</div>"
      ],
      "text/plain": [
       "          Quantity   TotalValue     Price_x  CalculatedTotal     Price_y\n",
       "count  1000.000000  1000.000000  1000.00000      1000.000000  1000.00000\n",
       "mean      2.537000   689.995560   272.55407       689.995560   272.55407\n",
       "std       1.117981   493.144478   140.73639       493.144478   140.73639\n",
       "min       1.000000    16.080000    16.08000        16.080000    16.08000\n",
       "25%       2.000000   295.295000   147.95000       295.295000   147.95000\n",
       "50%       3.000000   588.880000   299.93000       588.880000   299.93000\n",
       "75%       4.000000  1011.660000   404.40000      1011.660000   404.40000\n",
       "max       4.000000  1991.040000   497.76000      1991.040000   497.76000"
      ]
     },
     "execution_count": 7,
     "metadata": {},
     "output_type": "execute_result"
    }
   ],
   "source": [
    "# Summary statistics for numerical columns\n",
    "merged_df.describe()\n"
   ]
  },
  {
   "cell_type": "markdown",
   "id": "5d501e40-6332-4080-b71a-89d1bfbac685",
   "metadata": {},
   "source": [
    "# Step 5.i: Insights from Basic Statistics\n",
    "### Average Quantity Purchased: The mean quantity per transaction is around 2.54, with most purchases between 2 and 4 units.\n",
    "### Transaction Value Range: The TotalValue varies between $16.08 and $1991.04, with an average of $689.99.\n",
    "### Product Pricing: The price per product ranges from $16.08 to $497.76, with a median of $299.93.\n",
    "### Consistency Check: TotalValue and CalculatedTotal match, meaning most transactions correctly follow the formula TotalValue = Quantity × Price (except for previously noted inconsistencies)."
   ]
  },
  {
   "cell_type": "code",
   "execution_count": 10,
   "id": "39ebc401-e621-41b0-911d-8ed5b1d1a210",
   "metadata": {},
   "outputs": [
    {
     "data": {
      "image/png": "[encoded data removed]",
      "text/plain": [
       "<Figure size 1200x500 with 1 Axes>"
      ]
     },
     "metadata": {},
     "output_type": "display_data"
    },
    {
     "data": {
      "text/html": [
       "<div>\n",
       "<style scoped>\n",
       "    .dataframe tbody tr th:only-of-type {\n",
       "        vertical-align: middle;\n",
       "    }\n",
       "\n",
       "    .dataframe tbody tr th {\n",
       "        vertical-align: top;\n",
       "    }\n",
       "\n",
       "    .dataframe thead th {\n",
       "        text-align: right;\n",
       "    }\n",
       "</style>\n",
       "<table border=\"1\" class=\"dataframe\">\n",
       "  <thead>\n",
       "    <tr style=\"text-align: right;\">\n",
       "      <th></th>\n",
       "      <th>YearMonth</th>\n",
       "      <th>TotalValue</th>\n",
       "    </tr>\n",
       "  </thead>\n",
       "  <tbody>\n",
       "    <tr>\n",
       "      <th>0</th>\n",
       "      <td>2023-12</td>\n",
       "      <td>3769.52</td>\n",
       "    </tr>\n",
       "    <tr>\n",
       "      <th>1</th>\n",
       "      <td>2024-01</td>\n",
       "      <td>66376.39</td>\n",
       "    </tr>\n",
       "    <tr>\n",
       "      <th>2</th>\n",
       "      <td>2024-02</td>\n",
       "      <td>51459.27</td>\n",
       "    </tr>\n",
       "    <tr>\n",
       "      <th>3</th>\n",
       "      <td>2024-03</td>\n",
       "      <td>47828.73</td>\n",
       "    </tr>\n",
       "    <tr>\n",
       "      <th>4</th>\n",
       "      <td>2024-04</td>\n",
       "      <td>57519.06</td>\n",
       "    </tr>\n",
       "    <tr>\n",
       "      <th>5</th>\n",
       "      <td>2024-05</td>\n",
       "      <td>64527.74</td>\n",
       "    </tr>\n",
       "    <tr>\n",
       "      <th>6</th>\n",
       "      <td>2024-06</td>\n",
       "      <td>48771.18</td>\n",
       "    </tr>\n",
       "    <tr>\n",
       "      <th>7</th>\n",
       "      <td>2024-07</td>\n",
       "      <td>71366.39</td>\n",
       "    </tr>\n",
       "    <tr>\n",
       "      <th>8</th>\n",
       "      <td>2024-08</td>\n",
       "      <td>63436.74</td>\n",
       "    </tr>\n",
       "    <tr>\n",
       "      <th>9</th>\n",
       "      <td>2024-09</td>\n",
       "      <td>70603.75</td>\n",
       "    </tr>\n",
       "    <tr>\n",
       "      <th>10</th>\n",
       "      <td>2024-10</td>\n",
       "      <td>47063.22</td>\n",
       "    </tr>\n",
       "    <tr>\n",
       "      <th>11</th>\n",
       "      <td>2024-11</td>\n",
       "      <td>38224.37</td>\n",
       "    </tr>\n",
       "    <tr>\n",
       "      <th>12</th>\n",
       "      <td>2024-12</td>\n",
       "      <td>59049.20</td>\n",
       "    </tr>\n",
       "  </tbody>\n",
       "</table>\n",
       "</div>"
      ],
      "text/plain": [
       "   YearMonth  TotalValue\n",
       "0    2023-12     3769.52\n",
       "1    2024-01    66376.39\n",
       "2    2024-02    51459.27\n",
       "3    2024-03    47828.73\n",
       "4    2024-04    57519.06\n",
       "5    2024-05    64527.74\n",
       "6    2024-06    48771.18\n",
       "7    2024-07    71366.39\n",
       "8    2024-08    63436.74\n",
       "9    2024-09    70603.75\n",
       "10   2024-10    47063.22\n",
       "11   2024-11    38224.37\n",
       "12   2024-12    59049.20"
      ]
     },
     "execution_count": 10,
     "metadata": {},
     "output_type": "execute_result"
    }
   ],
   "source": [
    "# Aggregate total revenue per month\n",
    "merged_df[\"YearMonth\"] = merged_df[\"TransactionDate\"].dt.to_period(\"M\")\n",
    "monthly_sales = merged_df.groupby(\"YearMonth\")[\"TotalValue\"].sum().reset_index()\n",
    "\n",
    "# Convert period to datetime for plotting\n",
    "monthly_sales[\"YearMonth\"] = monthly_sales[\"YearMonth\"].astype(str)\n",
    "\n",
    "# Plot\n",
    "import matplotlib.pyplot as plt\n",
    "\n",
    "plt.figure(figsize=(12, 5))\n",
    "plt.plot(monthly_sales[\"YearMonth\"], monthly_sales[\"TotalValue\"], marker=\"o\", linestyle=\"-\", color=\"b\")\n",
    "plt.xticks(rotation=45)\n",
    "plt.xlabel(\"Month\")\n",
    "plt.ylabel(\"Total Revenue ($)\")\n",
    "plt.title(\"Monthly Revenue Trend\")\n",
    "plt.grid()\n",
    "plt.show()\n",
    "\n",
    "monthly_sales"
   ]
  },
  {
   "cell_type": "markdown",
   "id": "5c45aa5d-ed5a-4979-a3e1-90733a8b0795",
   "metadata": {},
   "source": [
    "# Step 5.ii: Insights from Monthly Revenue Trend\n",
    "### Sales Growth: There was a significant increase in revenue from December 2023 to January 2024 ($3.7K → $66.3K), indicating a possible seasonal trend or business launch.\n",
    "### Fluctuations: Revenue fluctuates but generally stays between $47K and $71K after January 2024.\n",
    "### Peak Month: The highest revenue was in July 2024 ($71.3K) and September 2024 ($70.6K), possibly due to promotions or high-demand periods.\n",
    "### Lowest Months: Revenue dips in October and November 2024 ($47K and $38K, respectively)—seasonal slowdown or fewer promotions?\n",
    "### Overall Trend: Despite fluctuations, sales remain strong throughout the year, suggesting consistent customer demand."
   ]
  },
  {
   "cell_type": "markdown",
   "id": "3f596a8b-7960-446c-b1ec-9035500ef68f",
   "metadata": {},
   "source": [
    "# Step 5.iii: Top Customers by Revenue\n",
    "### The top 5 customers contributing the most revenue."
   ]
  },
  {
   "cell_type": "code",
   "execution_count": 13,
   "id": "7b2aa99e-6328-494c-8123-d887773486b4",
   "metadata": {},
   "outputs": [
    {
     "data": {
      "image/png": "[encoded data removed]",
      "text/plain": [
       "<Figure size 1000x500 with 1 Axes>"
      ]
     },
     "metadata": {},
     "output_type": "display_data"
    },
    {
     "data": {
      "text/html": [
       "<div>\n",
       "<style scoped>\n",
       "    .dataframe tbody tr th:only-of-type {\n",
       "        vertical-align: middle;\n",
       "    }\n",
       "\n",
       "    .dataframe tbody tr th {\n",
       "        vertical-align: top;\n",
       "    }\n",
       "\n",
       "    .dataframe thead th {\n",
       "        text-align: right;\n",
       "    }\n",
       "</style>\n",
       "<table border=\"1\" class=\"dataframe\">\n",
       "  <thead>\n",
       "    <tr style=\"text-align: right;\">\n",
       "      <th></th>\n",
       "      <th>CustomerID</th>\n",
       "      <th>CustomerName</th>\n",
       "      <th>TotalValue</th>\n",
       "    </tr>\n",
       "  </thead>\n",
       "  <tbody>\n",
       "    <tr>\n",
       "      <th>140</th>\n",
       "      <td>C0141</td>\n",
       "      <td>Paul Parsons</td>\n",
       "      <td>10673.87</td>\n",
       "    </tr>\n",
       "    <tr>\n",
       "      <th>53</th>\n",
       "      <td>C0054</td>\n",
       "      <td>Bruce Rhodes</td>\n",
       "      <td>8040.39</td>\n",
       "    </tr>\n",
       "    <tr>\n",
       "      <th>64</th>\n",
       "      <td>C0065</td>\n",
       "      <td>Gerald Hines</td>\n",
       "      <td>7663.70</td>\n",
       "    </tr>\n",
       "    <tr>\n",
       "      <th>155</th>\n",
       "      <td>C0156</td>\n",
       "      <td>William Adams</td>\n",
       "      <td>7634.45</td>\n",
       "    </tr>\n",
       "    <tr>\n",
       "      <th>81</th>\n",
       "      <td>C0082</td>\n",
       "      <td>Aimee Taylor</td>\n",
       "      <td>7572.91</td>\n",
       "    </tr>\n",
       "  </tbody>\n",
       "</table>\n",
       "</div>"
      ],
      "text/plain": [
       "    CustomerID   CustomerName  TotalValue\n",
       "140      C0141   Paul Parsons    10673.87\n",
       "53       C0054   Bruce Rhodes     8040.39\n",
       "64       C0065   Gerald Hines     7663.70\n",
       "155      C0156  William Adams     7634.45\n",
       "81       C0082   Aimee Taylor     7572.91"
      ]
     },
     "execution_count": 13,
     "metadata": {},
     "output_type": "execute_result"
    }
   ],
   "source": [
    "# Top 5 customers by total spending\n",
    "top_customers = merged_df.groupby([\"CustomerID\", \"CustomerName\"])[\"TotalValue\"].sum().reset_index()\n",
    "top_customers = top_customers.sort_values(by=\"TotalValue\", ascending=False).head(5)\n",
    "\n",
    "import seaborn as sns\n",
    "\n",
    "# Set plot style\n",
    "plt.figure(figsize=(10, 5))\n",
    "sns.barplot(x=\"TotalValue\", y=\"CustomerName\", data=top_customers)\n",
    "\n",
    "# Labels and title\n",
    "plt.xlabel(\"Total Revenue ($)\")\n",
    "plt.ylabel(\"Customer Name\")\n",
    "plt.title(\"Top 5 Customers by Revenue\")\n",
    "plt.grid(axis=\"x\")\n",
    "\n",
    "plt.show()\n",
    "\n",
    "\n",
    "top_customers\n"
   ]
  },
  {
   "cell_type": "markdown",
   "id": "cd5532ec-3151-4fa4-88bc-c854a92129c7",
   "metadata": {},
   "source": [
    "# Step 5.iii: Insights from Top Customers by Revenue\n",
    "### Paul Parsons is the highest spender, contributing $10,673.87 in revenue—significantly higher than others.\n",
    "### Bruce Rhodes follows at $8,040.39, indicating a substantial drop from the top spender.\n",
    "### The remaining three (Gerald Hines, William Adams, and Aimee Taylor) contribute between $7,500 and $7,600, showing similar purchasing behavior.\n",
    "### High-value customers drive revenue, suggesting the need for a loyalty program or premium offers for top spenders.\n",
    "### Customer segmentation could help optimize marketing efforts, targeting similar high-spending users."
   ]
  },
  {
   "cell_type": "markdown",
   "id": "86233991-58a7-49fc-895d-0f4175af1d43",
   "metadata": {},
   "source": [
    "# Step 5.4: Best-Selling Products\n",
    "### The top 5 most frequently purchased products."
   ]
  },
  {
   "cell_type": "code",
   "execution_count": 18,
   "id": "c509bf96-e213-4588-b867-0c9fabf8f859",
   "metadata": {},
   "outputs": [
    {
     "data": {
      "text/html": [
       "<div>\n",
       "<style scoped>\n",
       "    .dataframe tbody tr th:only-of-type {\n",
       "        vertical-align: middle;\n",
       "    }\n",
       "\n",
       "    .dataframe tbody tr th {\n",
       "        vertical-align: top;\n",
       "    }\n",
       "\n",
       "    .dataframe thead th {\n",
       "        text-align: right;\n",
       "    }\n",
       "</style>\n",
       "<table border=\"1\" class=\"dataframe\">\n",
       "  <thead>\n",
       "    <tr style=\"text-align: right;\">\n",
       "      <th></th>\n",
       "      <th>ProductID</th>\n",
       "      <th>ProductName</th>\n",
       "      <th>Quantity</th>\n",
       "    </tr>\n",
       "  </thead>\n",
       "  <tbody>\n",
       "    <tr>\n",
       "      <th>58</th>\n",
       "      <td>P059</td>\n",
       "      <td>SoundWave Jeans</td>\n",
       "      <td>46</td>\n",
       "    </tr>\n",
       "    <tr>\n",
       "      <th>53</th>\n",
       "      <td>P054</td>\n",
       "      <td>SoundWave Cookbook</td>\n",
       "      <td>46</td>\n",
       "    </tr>\n",
       "    <tr>\n",
       "      <th>28</th>\n",
       "      <td>P029</td>\n",
       "      <td>TechPro Headphones</td>\n",
       "      <td>45</td>\n",
       "    </tr>\n",
       "    <tr>\n",
       "      <th>78</th>\n",
       "      <td>P079</td>\n",
       "      <td>ActiveWear Rug</td>\n",
       "      <td>43</td>\n",
       "    </tr>\n",
       "    <tr>\n",
       "      <th>60</th>\n",
       "      <td>P061</td>\n",
       "      <td>HomeSense Desk Lamp</td>\n",
       "      <td>43</td>\n",
       "    </tr>\n",
       "  </tbody>\n",
       "</table>\n",
       "</div>"
      ],
      "text/plain": [
       "   ProductID          ProductName  Quantity\n",
       "58      P059      SoundWave Jeans        46\n",
       "53      P054   SoundWave Cookbook        46\n",
       "28      P029   TechPro Headphones        45\n",
       "78      P079       ActiveWear Rug        43\n",
       "60      P061  HomeSense Desk Lamp        43"
      ]
     },
     "execution_count": 18,
     "metadata": {},
     "output_type": "execute_result"
    }
   ],
   "source": [
    "# Top 5 most sold products by quantity\n",
    "top_products = merged_df.groupby([\"ProductID\", \"ProductName\"])[\"Quantity\"].sum().reset_index()\n",
    "top_products = top_products.sort_values(by=\"Quantity\", ascending=False).head(5)\n",
    "top_products\n"
   ]
  },
  {
   "cell_type": "markdown",
   "id": "e1bb906f-9b12-4adc-88f8-a2d2e5d34d23",
   "metadata": {},
   "source": [
    "# Step 5.4: Insights from Best-Selling Products\n",
    "### \"SoundWave Jeans\" and \"SoundWave Cookbook\" are the top sellers, both selling 46 units.\n",
    "### \"TechPro Headphones\" follows closely at 45 units, indicating strong demand for tech accessories.\n",
    "### \"ActiveWear Rug\" and \"HomeSense Desk Lamp\" both sold 43 units, showing a mix of fashion, tech, and home goods in demand.\n",
    "### Fashion and tech products dominate, suggesting these categories drive customer interest.\n",
    "### Marketing efforts should focus on these top-selling products, possibly through bundles or targeted promotions."
   ]
  },
  {
   "cell_type": "markdown",
   "id": "1ce17523-8f86-4c22-a05d-6d5e6883fc53",
   "metadata": {},
   "source": [
    "# Step 5.v: Visualization of Best-Selling Products\n",
    "### To plot the top 5 best-selling products by quantity sold:"
   ]
  },
  {
   "cell_type": "code",
   "execution_count": 17,
   "id": "ea39d0a2-213b-4c36-a709-1d1de1c085d9",
   "metadata": {},
   "outputs": [
    {
     "data": {
      "image/png": "[encoded data removed]",
      "text/plain": [
       "<Figure size 1000x500 with 1 Axes>"
      ]
     },
     "metadata": {},
     "output_type": "display_data"
    }
   ],
   "source": [
    "# Plot top-selling products\n",
    "plt.figure(figsize=(10, 5))\n",
    "sns.barplot(x=\"Quantity\", y=\"ProductName\", data=top_products)\n",
    "\n",
    "# Labels and title\n",
    "plt.xlabel(\"Total Quantity Sold\")\n",
    "plt.ylabel(\"Product Name\")\n",
    "plt.title(\"Top 5 Best-Selling Products\")\n",
    "plt.grid(axis=\"x\")\n",
    "\n",
    "plt.show()\n"
   ]
  },
  {
   "cell_type": "code",
   "execution_count": 25,
   "id": "1698ba78-8988-49f6-a2a1-5c22bd073714",
   "metadata": {},
   "outputs": [
    {
     "data": {
      "image/png": "[encoded data removed]",
      "text/plain": [
       "<Figure size 1000x500 with 1 Axes>"
      ]
     },
     "metadata": {},
     "output_type": "display_data"
    },
    {
     "data": {
      "text/html": [
       "<div>\n",
       "<style scoped>\n",
       "    .dataframe tbody tr th:only-of-type {\n",
       "        vertical-align: middle;\n",
       "    }\n",
       "\n",
       "    .dataframe tbody tr th {\n",
       "        vertical-align: top;\n",
       "    }\n",
       "\n",
       "    .dataframe thead th {\n",
       "        text-align: right;\n",
       "    }\n",
       "</style>\n",
       "<table border=\"1\" class=\"dataframe\">\n",
       "  <thead>\n",
       "    <tr style=\"text-align: right;\">\n",
       "      <th></th>\n",
       "      <th>Region</th>\n",
       "      <th>TotalValue</th>\n",
       "    </tr>\n",
       "  </thead>\n",
       "  <tbody>\n",
       "    <tr>\n",
       "      <th>3</th>\n",
       "      <td>South America</td>\n",
       "      <td>219352.56</td>\n",
       "    </tr>\n",
       "    <tr>\n",
       "      <th>1</th>\n",
       "      <td>Europe</td>\n",
       "      <td>166254.63</td>\n",
       "    </tr>\n",
       "    <tr>\n",
       "      <th>2</th>\n",
       "      <td>North America</td>\n",
       "      <td>152313.40</td>\n",
       "    </tr>\n",
       "    <tr>\n",
       "      <th>0</th>\n",
       "      <td>Asia</td>\n",
       "      <td>152074.97</td>\n",
       "    </tr>\n",
       "  </tbody>\n",
       "</table>\n",
       "</div>"
      ],
      "text/plain": [
       "          Region  TotalValue\n",
       "3  South America   219352.56\n",
       "1         Europe   166254.63\n",
       "2  North America   152313.40\n",
       "0           Asia   152074.97"
      ]
     },
     "execution_count": 25,
     "metadata": {},
     "output_type": "execute_result"
    }
   ],
   "source": [
    "# Revenue by region\n",
    "region_sales = merged_df.groupby(\"Region\")[\"TotalValue\"].sum().reset_index()\n",
    "region_sales = region_sales.sort_values(by=\"TotalValue\", ascending=False)\n",
    "\n",
    "# Plot revenue by region\n",
    "plt.figure(figsize=(10, 5))\n",
    "sns.barplot(x=\"TotalValue\", y=\"Region\", data=region_sales)\n",
    "\n",
    "# Labels and title\n",
    "plt.xlabel(\"Total Revenue ($)\")\n",
    "plt.ylabel(\"Region\")\n",
    "plt.title(\"Revenue by Region\")\n",
    "plt.grid(axis=\"x\")\n",
    "\n",
    "plt.show()\n",
    "\n",
    "region_sales.head(5)  # Display top 5 regions\n"
   ]
  },
  {
   "cell_type": "markdown",
   "id": "b405a64b-bed0-4130-8d02-0ebe2a481472",
   "metadata": {},
   "source": [
    "# Step 5.vi: Insights from Regional Revenue Analysis\n",
    "### South America is the top-performing region, generating $219,352.56—far ahead of other regions.\n",
    "### Europe follows at $166,254.63, showing strong demand but still ~24% lower than South America.\n",
    "### North America and Asia have nearly equal revenue (~$152K each), suggesting a balanced market share.\n",
    "### Potential for Growth: The gap between Europe and South America indicates room for expansion in Europe and North America.\n",
    "### Regional Promotions: Marketing strategies should focus on maintaining dominance in South America while expanding in lower-revenue regions.\n"
   ]
  },
  {
   "cell_type": "code",
   "execution_count": null,
   "id": "e8f6e308-c44c-429d-a228-ff083b12216e",
   "metadata": {},
   "outputs": [],
   "source": []
  }
 ],
 "metadata": {
  "kernelspec": {
   "display_name": "Python 3 (ipykernel)",
   "language": "python",
   "name": "python3"
  },
  "language_info": {
   "codemirror_mode": {
    "name": "ipython",
    "version": 3
   },
   "file_extension": ".py",
   "mimetype": "text/x-python",
   "name": "python",
   "nbconvert_exporter": "python",
   "pygments_lexer": "ipython3",
   "version": "3.9.10"
  }
 },
 "nbformat": 4,
 "nbformat_minor": 5
}
